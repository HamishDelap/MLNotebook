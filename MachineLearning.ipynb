{
 "cells": [
  {
   "cell_type": "markdown",
   "metadata": {},
   "source": [
    "# Basic Machine Learning"
   ]
  },
  {
   "cell_type": "markdown",
   "metadata": {},
   "source": [
    "### A basic program demonstrating gradient descent and PMC"
   ]
  },
  {
   "cell_type": "code",
   "execution_count": 31,
   "metadata": {},
   "outputs": [],
   "source": [
    "import tensorflow as tf\n",
    "import numpy as np\n",
    "import matplotlib.pyplot as plt"
   ]
  },
  {
   "cell_type": "markdown",
   "metadata": {},
   "source": [
    "This function calculates the Product Moment Correlation from a list of X values and Y values."
   ]
  },
  {
   "cell_type": "code",
   "execution_count": 32,
   "metadata": {},
   "outputs": [],
   "source": [
    "# Todo: 1. Think about getting input as array instead of two seperate lists\n",
    "#       2. Check the input data (e.g. len(Xlist) == len(Ylist))\n",
    "\n",
    "def ProductMomentCorrelator(Xlist, Ylist):\n",
    "    sumX = 0\n",
    "    sumY = 0\n",
    "    sumXsqrd = 0\n",
    "    sumYsqrd = 0\n",
    "    sumXY = 0\n",
    "    n = len(Xlist)\n",
    "    \n",
    "    for i in range(0, len(Xlist)):\n",
    "        sumX += float(Xlist[i])\n",
    "        sumY += float(Ylist[i])\n",
    "        sumXsqrd += float((Xlist[i])) ** 2\n",
    "        sumYsqrd += float((Ylist[i])) ** 2\n",
    "        sumXY += float(Xlist[i] * Ylist[i])\n",
    "        \n",
    "    Sxy = sumXY - (sumX*sumY)/n\n",
    "    Sxx = sumXsqrd - (sumX**2)/n\n",
    "    Syy = sumYsqrd - (sumY**2)/n\n",
    "    \n",
    "    PMC = Sxy/((Sxx*Syy)**0.5)\n",
    "    \n",
    "    return(PMC)"
   ]
  },
  {
   "cell_type": "code",
   "execution_count": 39,
   "metadata": {},
   "outputs": [],
   "source": [
    "rng = np.random\n",
    "\n",
    "# Parameters\n",
    "learning_rate = 0.01\n",
    "training_epochs = 1000\n",
    "display_step = 50\n",
    "\n",
    "# Training Data\n",
    "train_X = np.asarray([3.3,4.4,5.5,6.61,6.93,4.168,9.779,6.182,7.59,2.167,\n",
    "                         7.042,10.791,5.313,7.997,5.654,9.27,3.1])\n",
    "train_Y = np.asarray([1.7,2.76,2.09,2.59,1.694,1.873,3.366,2.596,2.53,1.221,\n",
    "                         2.827,3.465,2.35,2.904,2.42,2.94,1.3])\n",
    "n_samples = train_X.shape[0]\n",
    "\n",
    "# tf Graph Input\n",
    "X = tf.placeholder(\"float\")\n",
    "Y = tf.placeholder(\"float\")\n",
    "\n",
    "# Set model weights\n",
    "W = tf.Variable(rng.randn(), name=\"weight\")\n",
    "b = tf.Variable(rng.randn(), name=\"bias\")"
   ]
  },
  {
   "cell_type": "code",
   "execution_count": 42,
   "metadata": {},
   "outputs": [
    {
     "name": "stdout",
     "output_type": "stream",
     "text": [
      "0.858377353565611\n"
     ]
    }
   ],
   "source": [
    "result = ProductMomentCorrelator(train_X, train_Y)\n",
    "print(result)"
   ]
  },
  {
   "cell_type": "code",
   "execution_count": 35,
   "metadata": {},
   "outputs": [],
   "source": [
    "# Construct a linear model\n",
    "pred = tf.add(tf.multiply(X, W), b)\n",
    "\n",
    "# Mean squared error\n",
    "cost = tf.reduce_sum(tf.pow(pred-Y, 2))/(2*n_samples)\n",
    "# Gradient descent\n",
    "optimizer = tf.train.GradientDescentOptimizer(learning_rate).minimize(cost)\n",
    "\n",
    "# Initialize the variables (i.e. assign their default value)\n",
    "init = tf.global_variables_initializer()"
   ]
  },
  {
   "cell_type": "code",
   "execution_count": 36,
   "metadata": {},
   "outputs": [
    {
     "name": "stdout",
     "output_type": "stream",
     "text": [
      "Epoch: 0050 cost= 0.327408761 W= 0.522762 b= -1.15115\n",
      "Epoch: 0100 cost= 0.298278242 W= 0.506052 b= -1.03102\n",
      "Epoch: 0150 cost= 0.272514910 W= 0.490337 b= -0.918048\n",
      "Epoch: 0200 cost= 0.249729797 W= 0.475558 b= -0.8118\n",
      "Epoch: 0250 cost= 0.229578555 W= 0.461658 b= -0.711878\n",
      "Epoch: 0300 cost= 0.211756334 W= 0.448586 b= -0.617901\n",
      "Epoch: 0350 cost= 0.195994496 W= 0.436291 b= -0.529519\n",
      "Epoch: 0400 cost= 0.182054833 W= 0.424729 b= -0.446397\n",
      "Epoch: 0450 cost= 0.169726714 W= 0.413854 b= -0.368222\n",
      "Epoch: 0500 cost= 0.158824056 W= 0.403627 b= -0.294702\n",
      "Epoch: 0550 cost= 0.149182066 W= 0.394009 b= -0.225557\n",
      "Epoch: 0600 cost= 0.140654996 W= 0.384963 b= -0.160528\n",
      "Epoch: 0650 cost= 0.133114100 W= 0.376456 b= -0.0993695\n",
      "Epoch: 0700 cost= 0.126445293 W= 0.368455 b= -0.0418516\n",
      "Epoch: 0750 cost= 0.120547816 W= 0.36093 b= 0.0122428\n",
      "Epoch: 0800 cost= 0.115332544 W= 0.353853 b= 0.0631173\n",
      "Epoch: 0850 cost= 0.110720575 W= 0.347198 b= 0.110964\n",
      "Epoch: 0900 cost= 0.106642209 W= 0.340938 b= 0.155962\n",
      "Epoch: 0950 cost= 0.103035748 W= 0.335051 b= 0.198282\n",
      "Epoch: 1000 cost= 0.099846631 W= 0.329515 b= 0.238083\n",
      "Optimization Finished!\n",
      "Training cost= 0.0998466 W= 0.329515 b= 0.238083 \n",
      "\n"
     ]
    },
    {
     "data": {
      "image/png": "[encoded data removed]",
      "text/plain": [
       "<matplotlib.figure.Figure at 0x238748a4160>"
      ]
     },
     "metadata": {},
     "output_type": "display_data"
    }
   ],
   "source": [
    "# Start training\n",
    "with tf.Session() as sess:\n",
    "    sess.run(init)\n",
    "\n",
    "    # Fit all training data\n",
    "    for epoch in range(training_epochs):\n",
    "        for (x, y) in zip(train_X, train_Y):\n",
    "            sess.run(optimizer, feed_dict={X: x, Y: y})\n",
    "\n",
    "        #Display logs per epoch step\n",
    "        if (epoch+1) % display_step == 0:\n",
    "            c = sess.run(cost, feed_dict={X: train_X, Y:train_Y})\n",
    "            print(\"Epoch:\", '%04d' % (epoch+1), \"cost=\", \"{:.9f}\".format(c), \\\n",
    "                \"W=\", sess.run(W), \"b=\", sess.run(b))\n",
    "\n",
    "    print(\"Optimization Finished!\")\n",
    "    training_cost = sess.run(cost, feed_dict={X: train_X, Y: train_Y})\n",
    "    print(\"Training cost=\", training_cost, \"W=\", sess.run(W), \"b=\", sess.run(b), '\\n')\n",
    "\n",
    "    #Graphic display\n",
    "    plt.plot(train_X, train_Y, 'ro', label='Original data')\n",
    "    plt.plot(train_X, sess.run(W) * train_X + sess.run(b), label='Fitted line')\n",
    "    plt.legend()\n",
    "    plt.show()"
   ]
  }
 ],
 "metadata": {
  "kernelspec": {
   "display_name": "Python 3",
   "language": "python",
   "name": "python3"
  },
  "language_info": {
   "codemirror_mode": {
    "name": "ipython",
    "version": 3
   },
   "file_extension": ".py",
   "mimetype": "text/x-python",
   "name": "python",
   "nbconvert_exporter": "python",
   "pygments_lexer": "ipython3",
   "version": "3.6.3"
  }
 },
 "nbformat": 4,
 "nbformat_minor": 2
}
