{
 "cells": [
  {
   "cell_type": "markdown",
   "metadata": {},
   "source": [
    "# Basic Machine Learning"
   ]
  },
  {
   "cell_type": "markdown",
   "metadata": {},
   "source": [
    "### A basic program demonstrating gradient descent and PMC"
   ]
  },
  {
   "cell_type": "code",
   "execution_count": 2,
   "metadata": {},
   "outputs": [],
   "source": [
    "import tensorflow as tf\n",
    "import numpy as np\n",
    "import matplotlib.pyplot as plt"
   ]
  },
  {
   "cell_type": "markdown",
   "metadata": {},
   "source": [
    "This function calculates the Product Moment Correlation from a list of X values and Y values."
   ]
  },
  {
   "cell_type": "code",
   "execution_count": 3,
   "metadata": {},
   "outputs": [],
   "source": [
    "# Todo: 1. Think about getting input as array instead of two seperate lists\n",
    "#       2. Check the input data (e.g. len(Xlist) == len(Ylist))\n",
    "\n",
    "def ProductMomentCorrelator(Xlist, Ylist):\n",
    "    sumX = 0\n",
    "    sumY = 0\n",
    "    sumXsqrd = 0\n",
    "    sumYsqrd = 0\n",
    "    sumXY = 0\n",
    "    n = len(Xlist)\n",
    "    \n",
    "    for i in range(0, len(Xlist)):\n",
    "        sumX += float(Xlist[i])\n",
    "        sumY += float(Ylist[i])\n",
    "        sumXsqrd += float((Xlist[i])) ** 2\n",
    "        sumYsqrd += float((Ylist[i])) ** 2\n",
    "        sumXY += float(Xlist[i] * Ylist[i])\n",
    "        \n",
    "    Sxy = sumXY - (sumX*sumY)/n\n",
    "    Sxx = sumXsqrd - (sumX**2)/n\n",
    "    Syy = sumYsqrd - (sumY**2)/n\n",
    "    \n",
    "    PMC = Sxy/((Sxx*Syy)**0.5)\n",
    "    \n",
    "    return(PMC)"
   ]
  },
  {
   "cell_type": "code",
   "execution_count": 5,
   "metadata": {},
   "outputs": [],
   "source": [
    "rng = np.random\n",
    "\n",
    "# Parameters\n",
    "learning_rate = 0.01\n",
    "training_epochs = 1000\n",
    "display_step = 50\n",
    "\n",
    "np.random.seed(20)\n",
    "train_X = np.random.rand(17) * 10\n",
    "train_Y = np.random.rand(17) * 10\n",
    "\n",
    "# Training Data\n",
    "#train_X = np.asarray([3.3,4.4,5.5,6.61,6.93,4.168,9.779,6.182,7.59,2.167,\n",
    "#                         7.042,10.791,5.313,7.997,5.654,9.27,3.1])\n",
    "#train_Y = np.asarray([1.7,2.76,2.09,2.59,1.694,1.873,3.366,2.596,2.53,1.221,\n",
    "#                         2.827,3.465,2.35,2.904,2.42,2.94,1.3])\n",
    "n_samples = train_X.shape[0]\n",
    "\n",
    "# tf Graph Input\n",
    "X = tf.placeholder(\"float\")\n",
    "Y = tf.placeholder(\"float\")\n",
    "\n",
    "# Set model weights\n",
    "W = tf.Variable(rng.randn(), name=\"weight\")\n",
    "b = tf.Variable(rng.randn(), name=\"bias\")"
   ]
  },
  {
   "cell_type": "code",
   "execution_count": 6,
   "metadata": {},
   "outputs": [
    {
     "name": "stdout",
     "output_type": "stream",
     "text": [
      "0.0032963459224377876\n"
     ]
    }
   ],
   "source": [
    "result = ProductMomentCorrelator(train_X, train_Y)\n",
    "print(result)"
   ]
  },
  {
   "cell_type": "code",
   "execution_count": 7,
   "metadata": {},
   "outputs": [],
   "source": [
    "# Construct a linear model\n",
    "pred = tf.add(tf.multiply(X, W), b)\n",
    "\n",
    "# Mean squared error\n",
    "cost = tf.reduce_sum(tf.pow(pred-Y, 2))/(2*n_samples)\n",
    "# Gradient descent\n",
    "optimizer = tf.train.GradientDescentOptimizer(learning_rate).minimize(cost)\n",
    "\n",
    "# Initialize the variables (i.e. assign their default value)\n",
    "init = tf.global_variables_initializer()"
   ]
  },
  {
   "cell_type": "code",
   "execution_count": 8,
   "metadata": {},
   "outputs": [
    {
     "name": "stdout",
     "output_type": "stream",
     "text": [
      "Epoch: 0050 cost= 4.534976006 W= 0.482811 b= 2.049\n",
      "Epoch: 0100 cost= 4.273777485 W= 0.431727 b= 2.40683\n",
      "Epoch: 0150 cost= 4.065860271 W= 0.386152 b= 2.72606\n",
      "Epoch: 0200 cost= 3.900352955 W= 0.345493 b= 3.01087\n",
      "Epoch: 0250 cost= 3.768604040 W= 0.309219 b= 3.26496\n",
      "Epoch: 0300 cost= 3.663725376 W= 0.276856 b= 3.49165\n",
      "Epoch: 0350 cost= 3.580234528 W= 0.247984 b= 3.69389\n",
      "Epoch: 0400 cost= 3.513770103 W= 0.222225 b= 3.87432\n",
      "Epoch: 0450 cost= 3.460857153 W= 0.199244 b= 4.0353\n",
      "Epoch: 0500 cost= 3.418731928 W= 0.178741 b= 4.17892\n",
      "Epoch: 0550 cost= 3.385198355 W= 0.16045 b= 4.30703\n",
      "Epoch: 0600 cost= 3.358498573 W= 0.144131 b= 4.42134\n",
      "Epoch: 0650 cost= 3.337241173 W= 0.129573 b= 4.52332\n",
      "Epoch: 0700 cost= 3.320316553 W= 0.116585 b= 4.6143\n",
      "Epoch: 0750 cost= 3.306841135 W= 0.104998 b= 4.69546\n",
      "Epoch: 0800 cost= 3.296109915 W= 0.0946595 b= 4.76788\n",
      "Epoch: 0850 cost= 3.287564278 W= 0.0854359 b= 4.83249\n",
      "Epoch: 0900 cost= 3.280758381 W= 0.0772066 b= 4.89013\n",
      "Epoch: 0950 cost= 3.275338411 W= 0.0698656 b= 4.94155\n",
      "Epoch: 1000 cost= 3.271022081 W= 0.0633162 b= 4.98743\n",
      "Optimization Finished!\n",
      "Training cost= 3.27102 W= 0.0633162 b= 4.98743 \n",
      "\n"
     ]
    },
    {
     "data": {
      "image/png": "[encoded data removed]",
      "text/plain": [
       "<matplotlib.figure.Figure at 0x18feeab26a0>"
      ]
     },
     "metadata": {},
     "output_type": "display_data"
    }
   ],
   "source": [
    "# Start training\n",
    "with tf.Session() as sess:\n",
    "    sess.run(init)\n",
    "\n",
    "    # Fit all training data\n",
    "    for epoch in range(training_epochs):\n",
    "        for (x, y) in zip(train_X, train_Y):\n",
    "            sess.run(optimizer, feed_dict={X: x, Y: y})\n",
    "\n",
    "        #Display logs per epoch step\n",
    "        if (epoch+1) % display_step == 0:\n",
    "            c = sess.run(cost, feed_dict={X: train_X, Y:train_Y})\n",
    "            print(\"Epoch:\", '%04d' % (epoch+1), \"cost=\", \"{:.9f}\".format(c), \\\n",
    "                \"W=\", sess.run(W), \"b=\", sess.run(b))\n",
    "\n",
    "    print(\"Optimization Finished!\")\n",
    "    training_cost = sess.run(cost, feed_dict={X: train_X, Y: train_Y})\n",
    "    print(\"Training cost=\", training_cost, \"W=\", sess.run(W), \"b=\", sess.run(b), '\\n')\n",
    "\n",
    "    #Graphic display\n",
    "    plt.plot(train_X, train_Y, 'ro', label='Original data')\n",
    "    plt.plot(train_X, sess.run(W) * train_X + sess.run(b), label='Fitted line')\n",
    "    plt.legend()\n",
    "    plt.show()"
   ]
  }
 ],
 "metadata": {
  "kernelspec": {
   "display_name": "Python 3",
   "language": "python",
   "name": "python3"
  },
  "language_info": {
   "codemirror_mode": {
    "name": "ipython",
    "version": 3
   },
   "file_extension": ".py",
   "mimetype": "text/x-python",
   "name": "python",
   "nbconvert_exporter": "python",
   "pygments_lexer": "ipython3",
   "version": "3.6.3"
  }
 },
 "nbformat": 4,
 "nbformat_minor": 2
}
